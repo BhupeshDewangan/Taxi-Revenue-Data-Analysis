{
 "cells": [
  {
   "cell_type": "markdown",
   "id": "59263afd",
   "metadata": {},
   "source": [
    "# Maximizing Revenvue for Taxi Cab Driveres Through Payment Type Analysis"
   ]
  },
  {
   "cell_type": "markdown",
   "id": "6c553b8d",
   "metadata": {},
   "source": [
    "## Problem Statement\n",
    "\n",
    "In the fast-paced taxi booking sector, making the most Of revenue is essential for long-term success and driver happiness. Our goal is to use data-driven insights to maximise revenue streams for taxi drivers in order to meet this need. Our research aims to determine whether payment methods have an impact on fare pricing by focusing on the relationship between payment type and fare amount."
   ]
  },
  {
   "cell_type": "markdown",
   "id": "35fe250d",
   "metadata": {},
   "source": [
    "# Objective\n",
    "\n",
    "This project's main goal is to run an AIB test to examine the relationship between the total fare and the method of payment. We use Python hypothesis testing and\n",
    "descriptive statistics to extract useful information that can help taxi drivers generate more cash. In particular, we want to find out if there is a big difference in the fares\n",
    "for those who pay with credit cards versus those who pay with cash."
   ]
  },
  {
   "cell_type": "markdown",
   "id": "4ea978a8",
   "metadata": {},
   "source": [
    "# Research Question\n",
    "\n",
    "Is there a relationship between total fare amount and payment type and can we nudge customers towards payment methods that generate higher revenue for drivers,\n",
    "without negatively impacting customer experience?"
   ]
  },
  {
   "cell_type": "markdown",
   "id": "b4b1325a",
   "metadata": {},
   "source": [
    "## Importing Libraries "
   ]
  },
  {
   "cell_type": "code",
   "execution_count": 2,
   "id": "e1688d61",
   "metadata": {},
   "outputs": [],
   "source": [
    "import pandas as pd\n",
    "import seaborn as sns\n",
    "import matplotlib.pyplot as plt\n",
    "import scipy.stats as st"
   ]
  },
  {
   "cell_type": "markdown",
   "id": "8a56a58b",
   "metadata": {},
   "source": [
    "## Loading the Dataset"
   ]
  },
  {
   "cell_type": "code",
   "execution_count": 3,
   "id": "7ae3b75c",
   "metadata": {},
   "outputs": [
    {
     "name": "stderr",
     "output_type": "stream",
     "text": [
      "C:\\Users\\ASUS\\AppData\\Local\\Temp\\ipykernel_17800\\3495846521.py:1: DtypeWarning: Columns (6) have mixed types. Specify dtype option on import or set low_memory=False.\n",
      "  df = pd.read_csv('yellow_tripdata_2020-01.csv')\n"
     ]
    }
   ],
   "source": [
    "df = pd.read_csv('yellow_tripdata_2020-01.csv')"
   ]
  },
  {
   "cell_type": "code",
   "execution_count": 4,
   "id": "da3bd2bc",
   "metadata": {},
   "outputs": [
    {
     "data": {
      "text/html": [
       "<div>\n",
       "<style scoped>\n",
       "    .dataframe tbody tr th:only-of-type {\n",
       "        vertical-align: middle;\n",
       "    }\n",
       "\n",
       "    .dataframe tbody tr th {\n",
       "        vertical-align: top;\n",
       "    }\n",
       "\n",
       "    .dataframe thead th {\n",
       "        text-align: right;\n",
       "    }\n",
       "</style>\n",
       "<table border=\"1\" class=\"dataframe\">\n",
       "  <thead>\n",
       "    <tr style=\"text-align: right;\">\n",
       "      <th></th>\n",
       "      <th>VendorID</th>\n",
       "      <th>tpep_pickup_datetime</th>\n",
       "      <th>tpep_dropoff_datetime</th>\n",
       "      <th>passenger_count</th>\n",
       "      <th>trip_distance</th>\n",
       "      <th>RatecodeID</th>\n",
       "      <th>store_and_fwd_flag</th>\n",
       "      <th>PULocationID</th>\n",
       "      <th>DOLocationID</th>\n",
       "      <th>payment_type</th>\n",
       "      <th>fare_amount</th>\n",
       "      <th>extra</th>\n",
       "      <th>mta_tax</th>\n",
       "      <th>tip_amount</th>\n",
       "      <th>tolls_amount</th>\n",
       "      <th>improvement_surcharge</th>\n",
       "      <th>total_amount</th>\n",
       "      <th>congestion_surcharge</th>\n",
       "    </tr>\n",
       "  </thead>\n",
       "  <tbody>\n",
       "    <tr>\n",
       "      <th>0</th>\n",
       "      <td>1.0</td>\n",
       "      <td>2020-01-01 00:28:15</td>\n",
       "      <td>2020-01-01 00:33:03</td>\n",
       "      <td>1.0</td>\n",
       "      <td>1.2</td>\n",
       "      <td>1.0</td>\n",
       "      <td>N</td>\n",
       "      <td>238</td>\n",
       "      <td>239</td>\n",
       "      <td>1.0</td>\n",
       "      <td>6.0</td>\n",
       "      <td>3.0</td>\n",
       "      <td>0.5</td>\n",
       "      <td>1.47</td>\n",
       "      <td>0.0</td>\n",
       "      <td>0.3</td>\n",
       "      <td>11.27</td>\n",
       "      <td>2.5</td>\n",
       "    </tr>\n",
       "    <tr>\n",
       "      <th>1</th>\n",
       "      <td>1.0</td>\n",
       "      <td>2020-01-01 00:35:39</td>\n",
       "      <td>2020-01-01 00:43:04</td>\n",
       "      <td>1.0</td>\n",
       "      <td>1.2</td>\n",
       "      <td>1.0</td>\n",
       "      <td>N</td>\n",
       "      <td>239</td>\n",
       "      <td>238</td>\n",
       "      <td>1.0</td>\n",
       "      <td>7.0</td>\n",
       "      <td>3.0</td>\n",
       "      <td>0.5</td>\n",
       "      <td>1.50</td>\n",
       "      <td>0.0</td>\n",
       "      <td>0.3</td>\n",
       "      <td>12.30</td>\n",
       "      <td>2.5</td>\n",
       "    </tr>\n",
       "    <tr>\n",
       "      <th>2</th>\n",
       "      <td>1.0</td>\n",
       "      <td>2020-01-01 00:47:41</td>\n",
       "      <td>2020-01-01 00:53:52</td>\n",
       "      <td>1.0</td>\n",
       "      <td>0.6</td>\n",
       "      <td>1.0</td>\n",
       "      <td>N</td>\n",
       "      <td>238</td>\n",
       "      <td>238</td>\n",
       "      <td>1.0</td>\n",
       "      <td>6.0</td>\n",
       "      <td>3.0</td>\n",
       "      <td>0.5</td>\n",
       "      <td>1.00</td>\n",
       "      <td>0.0</td>\n",
       "      <td>0.3</td>\n",
       "      <td>10.80</td>\n",
       "      <td>2.5</td>\n",
       "    </tr>\n",
       "    <tr>\n",
       "      <th>3</th>\n",
       "      <td>1.0</td>\n",
       "      <td>2020-01-01 00:55:23</td>\n",
       "      <td>2020-01-01 01:00:14</td>\n",
       "      <td>1.0</td>\n",
       "      <td>0.8</td>\n",
       "      <td>1.0</td>\n",
       "      <td>N</td>\n",
       "      <td>238</td>\n",
       "      <td>151</td>\n",
       "      <td>1.0</td>\n",
       "      <td>5.5</td>\n",
       "      <td>0.5</td>\n",
       "      <td>0.5</td>\n",
       "      <td>1.36</td>\n",
       "      <td>0.0</td>\n",
       "      <td>0.3</td>\n",
       "      <td>8.16</td>\n",
       "      <td>0.0</td>\n",
       "    </tr>\n",
       "    <tr>\n",
       "      <th>4</th>\n",
       "      <td>2.0</td>\n",
       "      <td>2020-01-01 00:01:58</td>\n",
       "      <td>2020-01-01 00:04:16</td>\n",
       "      <td>1.0</td>\n",
       "      <td>0.0</td>\n",
       "      <td>1.0</td>\n",
       "      <td>N</td>\n",
       "      <td>193</td>\n",
       "      <td>193</td>\n",
       "      <td>2.0</td>\n",
       "      <td>3.5</td>\n",
       "      <td>0.5</td>\n",
       "      <td>0.5</td>\n",
       "      <td>0.00</td>\n",
       "      <td>0.0</td>\n",
       "      <td>0.3</td>\n",
       "      <td>4.80</td>\n",
       "      <td>0.0</td>\n",
       "    </tr>\n",
       "  </tbody>\n",
       "</table>\n",
       "</div>"
      ],
      "text/plain": [
       "   VendorID tpep_pickup_datetime tpep_dropoff_datetime  passenger_count  \\\n",
       "0       1.0  2020-01-01 00:28:15   2020-01-01 00:33:03              1.0   \n",
       "1       1.0  2020-01-01 00:35:39   2020-01-01 00:43:04              1.0   \n",
       "2       1.0  2020-01-01 00:47:41   2020-01-01 00:53:52              1.0   \n",
       "3       1.0  2020-01-01 00:55:23   2020-01-01 01:00:14              1.0   \n",
       "4       2.0  2020-01-01 00:01:58   2020-01-01 00:04:16              1.0   \n",
       "\n",
       "   trip_distance  RatecodeID store_and_fwd_flag  PULocationID  DOLocationID  \\\n",
       "0            1.2         1.0                  N           238           239   \n",
       "1            1.2         1.0                  N           239           238   \n",
       "2            0.6         1.0                  N           238           238   \n",
       "3            0.8         1.0                  N           238           151   \n",
       "4            0.0         1.0                  N           193           193   \n",
       "\n",
       "   payment_type  fare_amount  extra  mta_tax  tip_amount  tolls_amount  \\\n",
       "0           1.0          6.0    3.0      0.5        1.47           0.0   \n",
       "1           1.0          7.0    3.0      0.5        1.50           0.0   \n",
       "2           1.0          6.0    3.0      0.5        1.00           0.0   \n",
       "3           1.0          5.5    0.5      0.5        1.36           0.0   \n",
       "4           2.0          3.5    0.5      0.5        0.00           0.0   \n",
       "\n",
       "   improvement_surcharge  total_amount  congestion_surcharge  \n",
       "0                    0.3         11.27                   2.5  \n",
       "1                    0.3         12.30                   2.5  \n",
       "2                    0.3         10.80                   2.5  \n",
       "3                    0.3          8.16                   0.0  \n",
       "4                    0.3          4.80                   0.0  "
      ]
     },
     "execution_count": 4,
     "metadata": {},
     "output_type": "execute_result"
    }
   ],
   "source": [
    "# Sample of Dataset\n",
    "df.head()"
   ]
  },
  {
   "cell_type": "code",
   "execution_count": 5,
   "id": "77029d8f",
   "metadata": {},
   "outputs": [
    {
     "data": {
      "text/plain": [
       "(6405008, 18)"
      ]
     },
     "execution_count": 5,
     "metadata": {},
     "output_type": "execute_result"
    }
   ],
   "source": [
    "df.shape"
   ]
  },
  {
   "cell_type": "markdown",
   "id": "21e71ec0",
   "metadata": {},
   "source": [
    "The Dataset which we are analysing have over 6 Millions Rows and 18 Columns, which is compariably huge from my all projects. the Size of the Dataset is 580 MB."
   ]
  },
  {
   "cell_type": "code",
   "execution_count": 6,
   "id": "20689efd",
   "metadata": {},
   "outputs": [
    {
     "data": {
      "text/plain": [
       "Index(['VendorID', 'tpep_pickup_datetime', 'tpep_dropoff_datetime',\n",
       "       'passenger_count', 'trip_distance', 'RatecodeID', 'store_and_fwd_flag',\n",
       "       'PULocationID', 'DOLocationID', 'payment_type', 'fare_amount', 'extra',\n",
       "       'mta_tax', 'tip_amount', 'tolls_amount', 'improvement_surcharge',\n",
       "       'total_amount', 'congestion_surcharge'],\n",
       "      dtype='object')"
      ]
     },
     "execution_count": 6,
     "metadata": {},
     "output_type": "execute_result"
    }
   ],
   "source": [
    "df.columns"
   ]
  },
  {
   "cell_type": "code",
   "execution_count": 7,
   "id": "4b001311",
   "metadata": {
    "scrolled": true
   },
   "outputs": [
    {
     "data": {
      "text/plain": [
       "VendorID                 float64\n",
       "tpep_pickup_datetime      object\n",
       "tpep_dropoff_datetime     object\n",
       "passenger_count          float64\n",
       "trip_distance            float64\n",
       "RatecodeID               float64\n",
       "store_and_fwd_flag        object\n",
       "PULocationID               int64\n",
       "DOLocationID               int64\n",
       "payment_type             float64\n",
       "fare_amount              float64\n",
       "extra                    float64\n",
       "mta_tax                  float64\n",
       "tip_amount               float64\n",
       "tolls_amount             float64\n",
       "improvement_surcharge    float64\n",
       "total_amount             float64\n",
       "congestion_surcharge     float64\n",
       "dtype: object"
      ]
     },
     "execution_count": 7,
     "metadata": {},
     "output_type": "execute_result"
    }
   ],
   "source": [
    "# Finding the Data Types of all columns\n",
    "df.dtypes"
   ]
  },
  {
   "cell_type": "code",
   "execution_count": 8,
   "id": "8d1715b6",
   "metadata": {},
   "outputs": [],
   "source": [
    "# Converting the columns to date time to find the timestamp b/w pickup and dropoff time.\n",
    "\n",
    "df['tpep_pickup_datetime'] = pd.to_datetime(df['tpep_pickup_datetime'])\n",
    "\n",
    "df['tpep_dropoff_datetime'] = pd.to_datetime(df['tpep_dropoff_datetime'])"
   ]
  },
  {
   "cell_type": "code",
   "execution_count": 9,
   "id": "9a3bb725",
   "metadata": {},
   "outputs": [
    {
     "data": {
      "text/plain": [
       "VendorID                        float64\n",
       "tpep_pickup_datetime     datetime64[ns]\n",
       "tpep_dropoff_datetime    datetime64[ns]\n",
       "passenger_count                 float64\n",
       "trip_distance                   float64\n",
       "RatecodeID                      float64\n",
       "store_and_fwd_flag               object\n",
       "PULocationID                      int64\n",
       "DOLocationID                      int64\n",
       "payment_type                    float64\n",
       "fare_amount                     float64\n",
       "extra                           float64\n",
       "mta_tax                         float64\n",
       "tip_amount                      float64\n",
       "tolls_amount                    float64\n",
       "improvement_surcharge           float64\n",
       "total_amount                    float64\n",
       "congestion_surcharge            float64\n",
       "dtype: object"
      ]
     },
     "execution_count": 9,
     "metadata": {},
     "output_type": "execute_result"
    }
   ],
   "source": [
    "df.dtypes"
   ]
  },
  {
   "cell_type": "code",
   "execution_count": 10,
   "id": "053badb2",
   "metadata": {},
   "outputs": [],
   "source": [
    "# Calculation of Duration by subsracting the drop off and pick up time\n",
    "df['duration'] = df['tpep_dropoff_datetime'] - df['tpep_pickup_datetime']"
   ]
  },
  {
   "cell_type": "code",
   "execution_count": 11,
   "id": "b180ebd6",
   "metadata": {},
   "outputs": [
    {
     "data": {
      "text/plain": [
       "0         0 days 00:04:48\n",
       "1         0 days 00:07:25\n",
       "2         0 days 00:06:11\n",
       "3         0 days 00:04:51\n",
       "4         0 days 00:02:18\n",
       "                ...      \n",
       "6405003   0 days 00:31:00\n",
       "6405004   0 days 01:16:00\n",
       "6405005   0 days 00:27:50\n",
       "6405006   0 days 00:22:39\n",
       "6405007   0 days 00:22:00\n",
       "Name: duration, Length: 6405008, dtype: timedelta64[ns]"
      ]
     },
     "execution_count": 11,
     "metadata": {},
     "output_type": "execute_result"
    }
   ],
   "source": [
    "df['duration']"
   ]
  },
  {
   "cell_type": "code",
   "execution_count": 12,
   "id": "095aae6a",
   "metadata": {},
   "outputs": [],
   "source": [
    "# Converting the Duration into Seconds, after to_datetime() function, \n",
    "# it will calculate the dates also.\n",
    "\n",
    "df['duration'] = df['duration'].dt.total_seconds() / 60"
   ]
  },
  {
   "cell_type": "code",
   "execution_count": 13,
   "id": "d8ce7947",
   "metadata": {},
   "outputs": [
    {
     "data": {
      "text/plain": [
       "Index(['VendorID', 'tpep_pickup_datetime', 'tpep_dropoff_datetime',\n",
       "       'passenger_count', 'trip_distance', 'RatecodeID', 'store_and_fwd_flag',\n",
       "       'PULocationID', 'DOLocationID', 'payment_type', 'fare_amount', 'extra',\n",
       "       'mta_tax', 'tip_amount', 'tolls_amount', 'improvement_surcharge',\n",
       "       'total_amount', 'congestion_surcharge', 'duration'],\n",
       "      dtype='object')"
      ]
     },
     "execution_count": 13,
     "metadata": {},
     "output_type": "execute_result"
    }
   ],
   "source": [
    "df.columns"
   ]
  },
  {
   "cell_type": "markdown",
   "id": "1a14408c",
   "metadata": {},
   "source": [
    "As the problem statement is revolving arround the payment type, passenger count and other factors which is selected below, we will filter the data a/c to it."
   ]
  },
  {
   "cell_type": "code",
   "execution_count": 14,
   "id": "35b46827",
   "metadata": {},
   "outputs": [],
   "source": [
    "df = df[['passenger_count', 'payment_type', 'fare_amount','duration','trip_distance']]"
   ]
  },
  {
   "cell_type": "code",
   "execution_count": 15,
   "id": "81a31b7b",
   "metadata": {},
   "outputs": [
    {
     "data": {
      "text/html": [
       "<div>\n",
       "<style scoped>\n",
       "    .dataframe tbody tr th:only-of-type {\n",
       "        vertical-align: middle;\n",
       "    }\n",
       "\n",
       "    .dataframe tbody tr th {\n",
       "        vertical-align: top;\n",
       "    }\n",
       "\n",
       "    .dataframe thead th {\n",
       "        text-align: right;\n",
       "    }\n",
       "</style>\n",
       "<table border=\"1\" class=\"dataframe\">\n",
       "  <thead>\n",
       "    <tr style=\"text-align: right;\">\n",
       "      <th></th>\n",
       "      <th>passenger_count</th>\n",
       "      <th>payment_type</th>\n",
       "      <th>fare_amount</th>\n",
       "      <th>duration</th>\n",
       "      <th>trip_distance</th>\n",
       "    </tr>\n",
       "  </thead>\n",
       "  <tbody>\n",
       "    <tr>\n",
       "      <th>0</th>\n",
       "      <td>1.0</td>\n",
       "      <td>1.0</td>\n",
       "      <td>6.00</td>\n",
       "      <td>4.800000</td>\n",
       "      <td>1.20</td>\n",
       "    </tr>\n",
       "    <tr>\n",
       "      <th>1</th>\n",
       "      <td>1.0</td>\n",
       "      <td>1.0</td>\n",
       "      <td>7.00</td>\n",
       "      <td>7.416667</td>\n",
       "      <td>1.20</td>\n",
       "    </tr>\n",
       "    <tr>\n",
       "      <th>2</th>\n",
       "      <td>1.0</td>\n",
       "      <td>1.0</td>\n",
       "      <td>6.00</td>\n",
       "      <td>6.183333</td>\n",
       "      <td>0.60</td>\n",
       "    </tr>\n",
       "    <tr>\n",
       "      <th>3</th>\n",
       "      <td>1.0</td>\n",
       "      <td>1.0</td>\n",
       "      <td>5.50</td>\n",
       "      <td>4.850000</td>\n",
       "      <td>0.80</td>\n",
       "    </tr>\n",
       "    <tr>\n",
       "      <th>4</th>\n",
       "      <td>1.0</td>\n",
       "      <td>2.0</td>\n",
       "      <td>3.50</td>\n",
       "      <td>2.300000</td>\n",
       "      <td>0.00</td>\n",
       "    </tr>\n",
       "    <tr>\n",
       "      <th>...</th>\n",
       "      <td>...</td>\n",
       "      <td>...</td>\n",
       "      <td>...</td>\n",
       "      <td>...</td>\n",
       "      <td>...</td>\n",
       "    </tr>\n",
       "    <tr>\n",
       "      <th>6405003</th>\n",
       "      <td>NaN</td>\n",
       "      <td>NaN</td>\n",
       "      <td>17.59</td>\n",
       "      <td>31.000000</td>\n",
       "      <td>3.24</td>\n",
       "    </tr>\n",
       "    <tr>\n",
       "      <th>6405004</th>\n",
       "      <td>NaN</td>\n",
       "      <td>NaN</td>\n",
       "      <td>46.67</td>\n",
       "      <td>76.000000</td>\n",
       "      <td>22.13</td>\n",
       "    </tr>\n",
       "    <tr>\n",
       "      <th>6405005</th>\n",
       "      <td>NaN</td>\n",
       "      <td>NaN</td>\n",
       "      <td>48.85</td>\n",
       "      <td>27.833333</td>\n",
       "      <td>10.51</td>\n",
       "    </tr>\n",
       "    <tr>\n",
       "      <th>6405006</th>\n",
       "      <td>NaN</td>\n",
       "      <td>NaN</td>\n",
       "      <td>27.17</td>\n",
       "      <td>22.650000</td>\n",
       "      <td>5.49</td>\n",
       "    </tr>\n",
       "    <tr>\n",
       "      <th>6405007</th>\n",
       "      <td>NaN</td>\n",
       "      <td>NaN</td>\n",
       "      <td>54.56</td>\n",
       "      <td>22.000000</td>\n",
       "      <td>11.60</td>\n",
       "    </tr>\n",
       "  </tbody>\n",
       "</table>\n",
       "<p>6405008 rows × 5 columns</p>\n",
       "</div>"
      ],
      "text/plain": [
       "         passenger_count  payment_type  fare_amount   duration  trip_distance\n",
       "0                    1.0           1.0         6.00   4.800000           1.20\n",
       "1                    1.0           1.0         7.00   7.416667           1.20\n",
       "2                    1.0           1.0         6.00   6.183333           0.60\n",
       "3                    1.0           1.0         5.50   4.850000           0.80\n",
       "4                    1.0           2.0         3.50   2.300000           0.00\n",
       "...                  ...           ...          ...        ...            ...\n",
       "6405003              NaN           NaN        17.59  31.000000           3.24\n",
       "6405004              NaN           NaN        46.67  76.000000          22.13\n",
       "6405005              NaN           NaN        48.85  27.833333          10.51\n",
       "6405006              NaN           NaN        27.17  22.650000           5.49\n",
       "6405007              NaN           NaN        54.56  22.000000          11.60\n",
       "\n",
       "[6405008 rows x 5 columns]"
      ]
     },
     "execution_count": 15,
     "metadata": {},
     "output_type": "execute_result"
    }
   ],
   "source": [
    "df"
   ]
  },
  {
   "cell_type": "code",
   "execution_count": 16,
   "id": "f8c21be3",
   "metadata": {},
   "outputs": [
    {
     "data": {
      "text/plain": [
       "passenger_count    65441\n",
       "payment_type       65441\n",
       "fare_amount            0\n",
       "duration               0\n",
       "trip_distance          0\n",
       "dtype: int64"
      ]
     },
     "execution_count": 16,
     "metadata": {},
     "output_type": "execute_result"
    }
   ],
   "source": [
    "# Checking the total missing values in every columns\n",
    "df.isnull().sum()"
   ]
  },
  {
   "cell_type": "code",
   "execution_count": 17,
   "id": "29dc165f",
   "metadata": {},
   "outputs": [
    {
     "data": {
      "text/plain": [
       "1.021716132126611"
      ]
     },
     "execution_count": 17,
     "metadata": {},
     "output_type": "execute_result"
    }
   ],
   "source": [
    "65441 / len(df) * 100"
   ]
  },
  {
   "cell_type": "code",
   "execution_count": 18,
   "id": "3fbefbac",
   "metadata": {},
   "outputs": [],
   "source": [
    "# As per the above calculation, there is just 1% data is missingm so,\n",
    "# Droping all the missing values \n",
    "df.dropna(inplace = True)"
   ]
  },
  {
   "cell_type": "code",
   "execution_count": 19,
   "id": "a8b928ce",
   "metadata": {},
   "outputs": [
    {
     "data": {
      "text/plain": [
       "(6339567, 5)"
      ]
     },
     "execution_count": 19,
     "metadata": {},
     "output_type": "execute_result"
    }
   ],
   "source": [
    "df.shape"
   ]
  },
  {
   "cell_type": "code",
   "execution_count": 20,
   "id": "f4fead08",
   "metadata": {},
   "outputs": [
    {
     "data": {
      "text/html": [
       "<div>\n",
       "<style scoped>\n",
       "    .dataframe tbody tr th:only-of-type {\n",
       "        vertical-align: middle;\n",
       "    }\n",
       "\n",
       "    .dataframe tbody tr th {\n",
       "        vertical-align: top;\n",
       "    }\n",
       "\n",
       "    .dataframe thead th {\n",
       "        text-align: right;\n",
       "    }\n",
       "</style>\n",
       "<table border=\"1\" class=\"dataframe\">\n",
       "  <thead>\n",
       "    <tr style=\"text-align: right;\">\n",
       "      <th></th>\n",
       "      <th>passenger_count</th>\n",
       "      <th>payment_type</th>\n",
       "      <th>fare_amount</th>\n",
       "      <th>duration</th>\n",
       "      <th>trip_distance</th>\n",
       "    </tr>\n",
       "  </thead>\n",
       "  <tbody>\n",
       "    <tr>\n",
       "      <th>5677238</th>\n",
       "      <td>1.0</td>\n",
       "      <td>1.0</td>\n",
       "      <td>3.5</td>\n",
       "      <td>1.983333</td>\n",
       "      <td>0.44</td>\n",
       "    </tr>\n",
       "    <tr>\n",
       "      <th>871000</th>\n",
       "      <td>1.0</td>\n",
       "      <td>1.0</td>\n",
       "      <td>7.0</td>\n",
       "      <td>7.100000</td>\n",
       "      <td>1.30</td>\n",
       "    </tr>\n",
       "    <tr>\n",
       "      <th>2309509</th>\n",
       "      <td>1.0</td>\n",
       "      <td>1.0</td>\n",
       "      <td>5.5</td>\n",
       "      <td>4.733333</td>\n",
       "      <td>0.80</td>\n",
       "    </tr>\n",
       "    <tr>\n",
       "      <th>2834915</th>\n",
       "      <td>1.0</td>\n",
       "      <td>1.0</td>\n",
       "      <td>52.0</td>\n",
       "      <td>46.916667</td>\n",
       "      <td>17.71</td>\n",
       "    </tr>\n",
       "    <tr>\n",
       "      <th>3402717</th>\n",
       "      <td>1.0</td>\n",
       "      <td>2.0</td>\n",
       "      <td>15.5</td>\n",
       "      <td>17.983333</td>\n",
       "      <td>4.15</td>\n",
       "    </tr>\n",
       "  </tbody>\n",
       "</table>\n",
       "</div>"
      ],
      "text/plain": [
       "         passenger_count  payment_type  fare_amount   duration  trip_distance\n",
       "5677238              1.0           1.0          3.5   1.983333           0.44\n",
       "871000               1.0           1.0          7.0   7.100000           1.30\n",
       "2309509              1.0           1.0          5.5   4.733333           0.80\n",
       "2834915              1.0           1.0         52.0  46.916667          17.71\n",
       "3402717              1.0           2.0         15.5  17.983333           4.15"
      ]
     },
     "execution_count": 20,
     "metadata": {},
     "output_type": "execute_result"
    }
   ],
   "source": [
    "# Finding some random samples\n",
    "df.sample(5)"
   ]
  },
  {
   "cell_type": "code",
   "execution_count": 21,
   "id": "8f0c3356",
   "metadata": {},
   "outputs": [],
   "source": [
    "# Converting both columns to integer type because it can't be in decimal\n",
    "\n",
    "df['passenger_count'] = df['passenger_count'].astype('int64')\n",
    "\n",
    "df['payment_type'] = df['payment_type'].astype('int64')"
   ]
  },
  {
   "cell_type": "code",
   "execution_count": 22,
   "id": "a2649dc6",
   "metadata": {},
   "outputs": [
    {
     "data": {
      "text/html": [
       "<div>\n",
       "<style scoped>\n",
       "    .dataframe tbody tr th:only-of-type {\n",
       "        vertical-align: middle;\n",
       "    }\n",
       "\n",
       "    .dataframe tbody tr th {\n",
       "        vertical-align: top;\n",
       "    }\n",
       "\n",
       "    .dataframe thead th {\n",
       "        text-align: right;\n",
       "    }\n",
       "</style>\n",
       "<table border=\"1\" class=\"dataframe\">\n",
       "  <thead>\n",
       "    <tr style=\"text-align: right;\">\n",
       "      <th></th>\n",
       "      <th>passenger_count</th>\n",
       "      <th>payment_type</th>\n",
       "      <th>fare_amount</th>\n",
       "      <th>duration</th>\n",
       "      <th>trip_distance</th>\n",
       "    </tr>\n",
       "  </thead>\n",
       "  <tbody>\n",
       "    <tr>\n",
       "      <th>3088769</th>\n",
       "      <td>1</td>\n",
       "      <td>1</td>\n",
       "      <td>5.0</td>\n",
       "      <td>4.166667</td>\n",
       "      <td>0.81</td>\n",
       "    </tr>\n",
       "    <tr>\n",
       "      <th>126835</th>\n",
       "      <td>1</td>\n",
       "      <td>2</td>\n",
       "      <td>15.5</td>\n",
       "      <td>18.966667</td>\n",
       "      <td>3.50</td>\n",
       "    </tr>\n",
       "    <tr>\n",
       "      <th>5490636</th>\n",
       "      <td>2</td>\n",
       "      <td>2</td>\n",
       "      <td>11.5</td>\n",
       "      <td>15.050000</td>\n",
       "      <td>2.21</td>\n",
       "    </tr>\n",
       "    <tr>\n",
       "      <th>611625</th>\n",
       "      <td>1</td>\n",
       "      <td>2</td>\n",
       "      <td>9.0</td>\n",
       "      <td>12.800000</td>\n",
       "      <td>1.09</td>\n",
       "    </tr>\n",
       "    <tr>\n",
       "      <th>3790532</th>\n",
       "      <td>1</td>\n",
       "      <td>1</td>\n",
       "      <td>4.5</td>\n",
       "      <td>2.266667</td>\n",
       "      <td>0.90</td>\n",
       "    </tr>\n",
       "  </tbody>\n",
       "</table>\n",
       "</div>"
      ],
      "text/plain": [
       "         passenger_count  payment_type  fare_amount   duration  trip_distance\n",
       "3088769                1             1          5.0   4.166667           0.81\n",
       "126835                 1             2         15.5  18.966667           3.50\n",
       "5490636                2             2         11.5  15.050000           2.21\n",
       "611625                 1             2          9.0  12.800000           1.09\n",
       "3790532                1             1          4.5   2.266667           0.90"
      ]
     },
     "execution_count": 22,
     "metadata": {},
     "output_type": "execute_result"
    }
   ],
   "source": [
    "df.sample(5)"
   ]
  },
  {
   "cell_type": "code",
   "execution_count": 23,
   "id": "39082da9",
   "metadata": {},
   "outputs": [
    {
     "data": {
      "text/html": [
       "<div>\n",
       "<style scoped>\n",
       "    .dataframe tbody tr th:only-of-type {\n",
       "        vertical-align: middle;\n",
       "    }\n",
       "\n",
       "    .dataframe tbody tr th {\n",
       "        vertical-align: top;\n",
       "    }\n",
       "\n",
       "    .dataframe thead th {\n",
       "        text-align: right;\n",
       "    }\n",
       "</style>\n",
       "<table border=\"1\" class=\"dataframe\">\n",
       "  <thead>\n",
       "    <tr style=\"text-align: right;\">\n",
       "      <th></th>\n",
       "      <th>passenger_count</th>\n",
       "      <th>payment_type</th>\n",
       "      <th>fare_amount</th>\n",
       "      <th>duration</th>\n",
       "      <th>trip_distance</th>\n",
       "    </tr>\n",
       "  </thead>\n",
       "  <tbody>\n",
       "    <tr>\n",
       "      <th>2056</th>\n",
       "      <td>1</td>\n",
       "      <td>2</td>\n",
       "      <td>7.0</td>\n",
       "      <td>0.000000</td>\n",
       "      <td>0.00</td>\n",
       "    </tr>\n",
       "    <tr>\n",
       "      <th>2441</th>\n",
       "      <td>1</td>\n",
       "      <td>1</td>\n",
       "      <td>52.0</td>\n",
       "      <td>0.200000</td>\n",
       "      <td>0.00</td>\n",
       "    </tr>\n",
       "    <tr>\n",
       "      <th>2446</th>\n",
       "      <td>2</td>\n",
       "      <td>1</td>\n",
       "      <td>9.5</td>\n",
       "      <td>13.066667</td>\n",
       "      <td>1.70</td>\n",
       "    </tr>\n",
       "    <tr>\n",
       "      <th>2465</th>\n",
       "      <td>1</td>\n",
       "      <td>1</td>\n",
       "      <td>4.0</td>\n",
       "      <td>3.083333</td>\n",
       "      <td>0.40</td>\n",
       "    </tr>\n",
       "    <tr>\n",
       "      <th>3344</th>\n",
       "      <td>1</td>\n",
       "      <td>1</td>\n",
       "      <td>6.0</td>\n",
       "      <td>5.350000</td>\n",
       "      <td>1.20</td>\n",
       "    </tr>\n",
       "    <tr>\n",
       "      <th>...</th>\n",
       "      <td>...</td>\n",
       "      <td>...</td>\n",
       "      <td>...</td>\n",
       "      <td>...</td>\n",
       "      <td>...</td>\n",
       "    </tr>\n",
       "    <tr>\n",
       "      <th>6339558</th>\n",
       "      <td>1</td>\n",
       "      <td>2</td>\n",
       "      <td>8.0</td>\n",
       "      <td>8.800000</td>\n",
       "      <td>1.63</td>\n",
       "    </tr>\n",
       "    <tr>\n",
       "      <th>6339559</th>\n",
       "      <td>1</td>\n",
       "      <td>1</td>\n",
       "      <td>8.5</td>\n",
       "      <td>8.016667</td>\n",
       "      <td>1.81</td>\n",
       "    </tr>\n",
       "    <tr>\n",
       "      <th>6339560</th>\n",
       "      <td>1</td>\n",
       "      <td>2</td>\n",
       "      <td>6.5</td>\n",
       "      <td>6.900000</td>\n",
       "      <td>0.98</td>\n",
       "    </tr>\n",
       "    <tr>\n",
       "      <th>6339562</th>\n",
       "      <td>1</td>\n",
       "      <td>1</td>\n",
       "      <td>11.0</td>\n",
       "      <td>14.233333</td>\n",
       "      <td>2.10</td>\n",
       "    </tr>\n",
       "    <tr>\n",
       "      <th>6339565</th>\n",
       "      <td>1</td>\n",
       "      <td>2</td>\n",
       "      <td>8.5</td>\n",
       "      <td>9.633333</td>\n",
       "      <td>1.61</td>\n",
       "    </tr>\n",
       "  </tbody>\n",
       "</table>\n",
       "<p>3331706 rows × 5 columns</p>\n",
       "</div>"
      ],
      "text/plain": [
       "         passenger_count  payment_type  fare_amount   duration  trip_distance\n",
       "2056                   1             2          7.0   0.000000           0.00\n",
       "2441                   1             1         52.0   0.200000           0.00\n",
       "2446                   2             1          9.5  13.066667           1.70\n",
       "2465                   1             1          4.0   3.083333           0.40\n",
       "3344                   1             1          6.0   5.350000           1.20\n",
       "...                  ...           ...          ...        ...            ...\n",
       "6339558                1             2          8.0   8.800000           1.63\n",
       "6339559                1             1          8.5   8.016667           1.81\n",
       "6339560                1             2          6.5   6.900000           0.98\n",
       "6339562                1             1         11.0  14.233333           2.10\n",
       "6339565                1             2          8.5   9.633333           1.61\n",
       "\n",
       "[3331706 rows x 5 columns]"
      ]
     },
     "execution_count": 23,
     "metadata": {},
     "output_type": "execute_result"
    }
   ],
   "source": [
    "# Checking the duplicate values\n",
    "# As per the cell output, there is 3 Millions of duplicated value which is\n",
    "# the half of the Dataset shape\n",
    "\n",
    "df[df.duplicated()]"
   ]
  },
  {
   "cell_type": "code",
   "execution_count": 24,
   "id": "1f3fb8fa",
   "metadata": {},
   "outputs": [],
   "source": [
    "# Dropping the duplicated value, which will helpful to make better analysis\n",
    "# and for better performance \n",
    "\n",
    "df.drop_duplicates(inplace = True)"
   ]
  },
  {
   "cell_type": "code",
   "execution_count": 25,
   "id": "0813d44a",
   "metadata": {},
   "outputs": [
    {
     "data": {
      "text/plain": [
       "(3007861, 5)"
      ]
     },
     "execution_count": 25,
     "metadata": {},
     "output_type": "execute_result"
    }
   ],
   "source": [
    "df.shape"
   ]
  },
  {
   "cell_type": "markdown",
   "id": "4c7f2831",
   "metadata": {},
   "source": [
    "The above DataFrame is useful for direct analysis, I just store for future predictions, I can direct access the Imp features\n",
    "\n",
    "df.to_csv('Final_Taxi', index=False)"
   ]
  },
  {
   "cell_type": "code",
   "execution_count": 26,
   "id": "28bcf26b",
   "metadata": {},
   "outputs": [
    {
     "data": {
      "text/plain": [
       "1    0.581981\n",
       "2    0.190350\n",
       "3    0.066360\n",
       "5    0.062937\n",
       "6    0.039272\n",
       "4    0.036046\n",
       "0    0.023033\n",
       "7    0.000009\n",
       "9    0.000006\n",
       "8    0.000006\n",
       "Name: passenger_count, dtype: float64"
      ]
     },
     "execution_count": 26,
     "metadata": {},
     "output_type": "execute_result"
    }
   ],
   "source": [
    "# Passenger Count Distribution from 0 passenger to 9 passengers\n",
    "\n",
    "df['passenger_count'].value_counts(normalize = True)"
   ]
  },
  {
   "cell_type": "markdown",
   "id": "811d3384",
   "metadata": {},
   "source": [
    "1 = Credit Card\n",
    "2 = Cash\n",
    "3 = No Charge\n",
    "4 = Dispute\n",
    "5 = Unknown\n",
    "6 = Voided Trip"
   ]
  },
  {
   "cell_type": "markdown",
   "id": "1ba3e63a",
   "metadata": {},
   "source": [
    "As our analysis is going for Cash and Card Transactions, we can remove other payment type"
   ]
  },
  {
   "cell_type": "code",
   "execution_count": 27,
   "id": "856f34c0",
   "metadata": {},
   "outputs": [
    {
     "data": {
      "text/plain": [
       "1    6.782670e-01\n",
       "2    3.075731e-01\n",
       "3    8.721480e-03\n",
       "4    5.438084e-03\n",
       "5    3.324622e-07\n",
       "Name: payment_type, dtype: float64"
      ]
     },
     "execution_count": 27,
     "metadata": {},
     "output_type": "execute_result"
    }
   ],
   "source": [
    "# Payment count Distribution\n",
    "\n",
    "df['payment_type'].value_counts(normalize = True)"
   ]
  },
  {
   "cell_type": "code",
   "execution_count": 28,
   "id": "701f7ff2",
   "metadata": {},
   "outputs": [],
   "source": [
    "# a Trick to select the most Imp and Impactful Values for Analysis\n",
    "\n",
    "df = df[(df['passenger_count'] > 0) & (df['passenger_count'] < 6)]\n",
    "\n",
    "df = df[(df['payment_type'] < 3)]"
   ]
  },
  {
   "cell_type": "code",
   "execution_count": 29,
   "id": "77be031a",
   "metadata": {},
   "outputs": [
    {
     "data": {
      "text/plain": [
       "1    0.686189\n",
       "2    0.313811\n",
       "Name: payment_type, dtype: float64"
      ]
     },
     "execution_count": 29,
     "metadata": {},
     "output_type": "execute_result"
    }
   ],
   "source": [
    "# We just select the 1 and 2 which is Card and Cash\n",
    "df['payment_type'].value_counts(normalize = True)"
   ]
  },
  {
   "cell_type": "code",
   "execution_count": 30,
   "id": "2767c904",
   "metadata": {},
   "outputs": [
    {
     "data": {
      "text/plain": [
       "(2780283, 5)"
      ]
     },
     "execution_count": 30,
     "metadata": {},
     "output_type": "execute_result"
    }
   ],
   "source": [
    "df.shape"
   ]
  },
  {
   "cell_type": "code",
   "execution_count": 31,
   "id": "f2477f33",
   "metadata": {},
   "outputs": [],
   "source": [
    "# Renaming the Rows where Payment type is 1 and 2\n",
    "\n",
    "df['payment_type'].replace([1, 2], ['Card', 'Cash'], inplace = True)"
   ]
  },
  {
   "cell_type": "code",
   "execution_count": 32,
   "id": "1bf73312",
   "metadata": {},
   "outputs": [
    {
     "data": {
      "text/html": [
       "<div>\n",
       "<style scoped>\n",
       "    .dataframe tbody tr th:only-of-type {\n",
       "        vertical-align: middle;\n",
       "    }\n",
       "\n",
       "    .dataframe tbody tr th {\n",
       "        vertical-align: top;\n",
       "    }\n",
       "\n",
       "    .dataframe thead th {\n",
       "        text-align: right;\n",
       "    }\n",
       "</style>\n",
       "<table border=\"1\" class=\"dataframe\">\n",
       "  <thead>\n",
       "    <tr style=\"text-align: right;\">\n",
       "      <th></th>\n",
       "      <th>passenger_count</th>\n",
       "      <th>payment_type</th>\n",
       "      <th>fare_amount</th>\n",
       "      <th>duration</th>\n",
       "      <th>trip_distance</th>\n",
       "    </tr>\n",
       "  </thead>\n",
       "  <tbody>\n",
       "    <tr>\n",
       "      <th>1410873</th>\n",
       "      <td>1</td>\n",
       "      <td>Card</td>\n",
       "      <td>19.0</td>\n",
       "      <td>18.416667</td>\n",
       "      <td>5.50</td>\n",
       "    </tr>\n",
       "    <tr>\n",
       "      <th>288758</th>\n",
       "      <td>1</td>\n",
       "      <td>Card</td>\n",
       "      <td>4.5</td>\n",
       "      <td>2.383333</td>\n",
       "      <td>0.95</td>\n",
       "    </tr>\n",
       "    <tr>\n",
       "      <th>721609</th>\n",
       "      <td>1</td>\n",
       "      <td>Card</td>\n",
       "      <td>52.0</td>\n",
       "      <td>13.250000</td>\n",
       "      <td>9.29</td>\n",
       "    </tr>\n",
       "    <tr>\n",
       "      <th>2943908</th>\n",
       "      <td>2</td>\n",
       "      <td>Card</td>\n",
       "      <td>66.5</td>\n",
       "      <td>33.833333</td>\n",
       "      <td>17.60</td>\n",
       "    </tr>\n",
       "    <tr>\n",
       "      <th>6299869</th>\n",
       "      <td>1</td>\n",
       "      <td>Card</td>\n",
       "      <td>19.0</td>\n",
       "      <td>23.316667</td>\n",
       "      <td>4.83</td>\n",
       "    </tr>\n",
       "  </tbody>\n",
       "</table>\n",
       "</div>"
      ],
      "text/plain": [
       "         passenger_count payment_type  fare_amount   duration  trip_distance\n",
       "1410873                1         Card         19.0  18.416667           5.50\n",
       "288758                 1         Card          4.5   2.383333           0.95\n",
       "721609                 1         Card         52.0  13.250000           9.29\n",
       "2943908                2         Card         66.5  33.833333          17.60\n",
       "6299869                1         Card         19.0  23.316667           4.83"
      ]
     },
     "execution_count": 32,
     "metadata": {},
     "output_type": "execute_result"
    }
   ],
   "source": [
    "df.sample(5)"
   ]
  },
  {
   "cell_type": "code",
   "execution_count": 33,
   "id": "0502e68e",
   "metadata": {
    "scrolled": true
   },
   "outputs": [
    {
     "data": {
      "text/html": [
       "<div>\n",
       "<style scoped>\n",
       "    .dataframe tbody tr th:only-of-type {\n",
       "        vertical-align: middle;\n",
       "    }\n",
       "\n",
       "    .dataframe tbody tr th {\n",
       "        vertical-align: top;\n",
       "    }\n",
       "\n",
       "    .dataframe thead th {\n",
       "        text-align: right;\n",
       "    }\n",
       "</style>\n",
       "<table border=\"1\" class=\"dataframe\">\n",
       "  <thead>\n",
       "    <tr style=\"text-align: right;\">\n",
       "      <th></th>\n",
       "      <th>passenger_count</th>\n",
       "      <th>fare_amount</th>\n",
       "      <th>duration</th>\n",
       "      <th>trip_distance</th>\n",
       "    </tr>\n",
       "  </thead>\n",
       "  <tbody>\n",
       "    <tr>\n",
       "      <th>count</th>\n",
       "      <td>2.780283e+06</td>\n",
       "      <td>2.780283e+06</td>\n",
       "      <td>2.780283e+06</td>\n",
       "      <td>2.780283e+06</td>\n",
       "    </tr>\n",
       "    <tr>\n",
       "      <th>mean</th>\n",
       "      <td>1.733386e+00</td>\n",
       "      <td>1.780567e+01</td>\n",
       "      <td>2.415478e+01</td>\n",
       "      <td>4.536729e+00</td>\n",
       "    </tr>\n",
       "    <tr>\n",
       "      <th>std</th>\n",
       "      <td>1.176652e+00</td>\n",
       "      <td>1.506997e+01</td>\n",
       "      <td>9.260031e+01</td>\n",
       "      <td>4.895890e+00</td>\n",
       "    </tr>\n",
       "    <tr>\n",
       "      <th>min</th>\n",
       "      <td>1.000000e+00</td>\n",
       "      <td>-5.000000e+02</td>\n",
       "      <td>-2.770367e+03</td>\n",
       "      <td>-2.218000e+01</td>\n",
       "    </tr>\n",
       "    <tr>\n",
       "      <th>25%</th>\n",
       "      <td>1.000000e+00</td>\n",
       "      <td>9.000000e+00</td>\n",
       "      <td>9.883333e+00</td>\n",
       "      <td>1.500000e+00</td>\n",
       "    </tr>\n",
       "    <tr>\n",
       "      <th>50%</th>\n",
       "      <td>1.000000e+00</td>\n",
       "      <td>1.300000e+01</td>\n",
       "      <td>1.573333e+01</td>\n",
       "      <td>2.730000e+00</td>\n",
       "    </tr>\n",
       "    <tr>\n",
       "      <th>75%</th>\n",
       "      <td>2.000000e+00</td>\n",
       "      <td>2.100000e+01</td>\n",
       "      <td>2.336667e+01</td>\n",
       "      <td>5.470000e+00</td>\n",
       "    </tr>\n",
       "    <tr>\n",
       "      <th>max</th>\n",
       "      <td>5.000000e+00</td>\n",
       "      <td>4.265000e+03</td>\n",
       "      <td>8.525117e+03</td>\n",
       "      <td>2.628800e+02</td>\n",
       "    </tr>\n",
       "  </tbody>\n",
       "</table>\n",
       "</div>"
      ],
      "text/plain": [
       "       passenger_count   fare_amount      duration  trip_distance\n",
       "count     2.780283e+06  2.780283e+06  2.780283e+06   2.780283e+06\n",
       "mean      1.733386e+00  1.780567e+01  2.415478e+01   4.536729e+00\n",
       "std       1.176652e+00  1.506997e+01  9.260031e+01   4.895890e+00\n",
       "min       1.000000e+00 -5.000000e+02 -2.770367e+03  -2.218000e+01\n",
       "25%       1.000000e+00  9.000000e+00  9.883333e+00   1.500000e+00\n",
       "50%       1.000000e+00  1.300000e+01  1.573333e+01   2.730000e+00\n",
       "75%       2.000000e+00  2.100000e+01  2.336667e+01   5.470000e+00\n",
       "max       5.000000e+00  4.265000e+03  8.525117e+03   2.628800e+02"
      ]
     },
     "execution_count": 33,
     "metadata": {},
     "output_type": "execute_result"
    }
   ],
   "source": [
    "# Describe() function is helpful to find the complete analysis of a DataFrame by just calling 1 function\n",
    "# It will find the min, max, mean, std, QR1, QR3 etc.\n",
    "\n",
    "# Descriptive Statistics for Data\n",
    "df.describe()"
   ]
  },
  {
   "cell_type": "markdown",
   "id": "945afdc2",
   "metadata": {},
   "source": [
    "Here we can see the minimum values of all the columns is Negative, which cannot be possible and can create problems for futher analysis, we need to eliminate these values.\n",
    "\n",
    "Furthermore, the 50% values of columns is higher, which indicates the outliers in data. we need to remove to ensure the integrity of analysis."
   ]
  },
  {
   "cell_type": "code",
   "execution_count": 34,
   "id": "9da1468c",
   "metadata": {},
   "outputs": [],
   "source": [
    "# df.to_csv(\"Analysis.csv\")"
   ]
  },
  {
   "cell_type": "code",
   "execution_count": 35,
   "id": "a3dceba4",
   "metadata": {},
   "outputs": [],
   "source": [
    "# Selecting the rows or values, which is greater than 0\n",
    "\n",
    "df = df[df['fare_amount'] > 0]\n",
    "df = df[df['trip_distance'] > 0]\n",
    "df = df[df['duration'] > 0]"
   ]
  },
  {
   "cell_type": "code",
   "execution_count": 36,
   "id": "32318eb2",
   "metadata": {},
   "outputs": [
    {
     "data": {
      "text/html": [
       "<div>\n",
       "<style scoped>\n",
       "    .dataframe tbody tr th:only-of-type {\n",
       "        vertical-align: middle;\n",
       "    }\n",
       "\n",
       "    .dataframe tbody tr th {\n",
       "        vertical-align: top;\n",
       "    }\n",
       "\n",
       "    .dataframe thead th {\n",
       "        text-align: right;\n",
       "    }\n",
       "</style>\n",
       "<table border=\"1\" class=\"dataframe\">\n",
       "  <thead>\n",
       "    <tr style=\"text-align: right;\">\n",
       "      <th></th>\n",
       "      <th>passenger_count</th>\n",
       "      <th>payment_type</th>\n",
       "      <th>fare_amount</th>\n",
       "      <th>duration</th>\n",
       "      <th>trip_distance</th>\n",
       "    </tr>\n",
       "  </thead>\n",
       "  <tbody>\n",
       "    <tr>\n",
       "      <th>130166</th>\n",
       "      <td>2</td>\n",
       "      <td>Card</td>\n",
       "      <td>6.0</td>\n",
       "      <td>5.400000</td>\n",
       "      <td>1.06</td>\n",
       "    </tr>\n",
       "    <tr>\n",
       "      <th>245698</th>\n",
       "      <td>2</td>\n",
       "      <td>Card</td>\n",
       "      <td>6.0</td>\n",
       "      <td>6.200000</td>\n",
       "      <td>0.95</td>\n",
       "    </tr>\n",
       "    <tr>\n",
       "      <th>2775874</th>\n",
       "      <td>2</td>\n",
       "      <td>Card</td>\n",
       "      <td>5.5</td>\n",
       "      <td>4.916667</td>\n",
       "      <td>0.64</td>\n",
       "    </tr>\n",
       "    <tr>\n",
       "      <th>223039</th>\n",
       "      <td>2</td>\n",
       "      <td>Cash</td>\n",
       "      <td>30.5</td>\n",
       "      <td>30.816667</td>\n",
       "      <td>9.00</td>\n",
       "    </tr>\n",
       "    <tr>\n",
       "      <th>565519</th>\n",
       "      <td>2</td>\n",
       "      <td>Card</td>\n",
       "      <td>10.5</td>\n",
       "      <td>14.466667</td>\n",
       "      <td>1.60</td>\n",
       "    </tr>\n",
       "  </tbody>\n",
       "</table>\n",
       "</div>"
      ],
      "text/plain": [
       "         passenger_count payment_type  fare_amount   duration  trip_distance\n",
       "130166                 2         Card          6.0   5.400000           1.06\n",
       "245698                 2         Card          6.0   6.200000           0.95\n",
       "2775874                2         Card          5.5   4.916667           0.64\n",
       "223039                 2         Cash         30.5  30.816667           9.00\n",
       "565519                 2         Card         10.5  14.466667           1.60"
      ]
     },
     "execution_count": 36,
     "metadata": {},
     "output_type": "execute_result"
    }
   ],
   "source": [
    "df.sample(5)"
   ]
  },
  {
   "cell_type": "code",
   "execution_count": 37,
   "id": "5b9c301e",
   "metadata": {},
   "outputs": [
    {
     "data": {
      "text/plain": [
       "(array([2.748913e+06, 1.600000e+01, 1.000000e+00, 0.000000e+00,\n",
       "        1.000000e+00, 0.000000e+00, 0.000000e+00, 0.000000e+00,\n",
       "        0.000000e+00, 1.000000e+00]),\n",
       " array([1.000000e-02, 4.265090e+02, 8.530080e+02, 1.279507e+03,\n",
       "        1.706006e+03, 2.132505e+03, 2.559004e+03, 2.985503e+03,\n",
       "        3.412002e+03, 3.838501e+03, 4.265000e+03]),\n",
       " <BarContainer object of 10 artists>)"
      ]
     },
     "execution_count": 37,
     "metadata": {},
     "output_type": "execute_result"
    },
    {
     "data": {
      "image/png": "[encoded data removed]",
      "text/plain": [
       "<Figure size 432x288 with 1 Axes>"
      ]
     },
     "metadata": {
      "needs_background": "light"
     },
     "output_type": "display_data"
    }
   ],
   "source": [
    "# checking the outlier using Histogram plot\n",
    "\n",
    "plt.hist(df['fare_amount'])"
   ]
  },
  {
   "cell_type": "code",
   "execution_count": 38,
   "id": "a39923ee",
   "metadata": {},
   "outputs": [
    {
     "data": {
      "text/plain": [
       "{'whiskers': [<matplotlib.lines.Line2D at 0x22db5704df0>,\n",
       "  <matplotlib.lines.Line2D at 0x22db5716100>],\n",
       " 'caps': [<matplotlib.lines.Line2D at 0x22db5716490>,\n",
       "  <matplotlib.lines.Line2D at 0x22db57166a0>],\n",
       " 'boxes': [<matplotlib.lines.Line2D at 0x22db5704b20>],\n",
       " 'medians': [<matplotlib.lines.Line2D at 0x22db5716970>],\n",
       " 'fliers': [<matplotlib.lines.Line2D at 0x22db5716c40>],\n",
       " 'means': []}"
      ]
     },
     "execution_count": 38,
     "metadata": {},
     "output_type": "execute_result"
    },
    {
     "data": {
      "image/png": "[encoded data removed]",
      "text/plain": [
       "<Figure size 432x288 with 1 Axes>"
      ]
     },
     "metadata": {
      "needs_background": "light"
     },
     "output_type": "display_data"
    }
   ],
   "source": [
    "# Checking the outlier using Boxplot\n",
    "\n",
    "plt.boxplot(df['fare_amount'])"
   ]
  },
  {
   "cell_type": "code",
   "execution_count": 39,
   "id": "bf6a47d2",
   "metadata": {
    "scrolled": true
   },
   "outputs": [],
   "source": [
    "# Code to remove Outlier using Interquartile Range for the Numerical Variables\n",
    "\n",
    "for col in ['duration', 'trip_distance', 'fare_amount']:\n",
    "    q1 = df[col].quantile(0.25)\n",
    "    q3 = df[col].quantile(0.75)\n",
    "    \n",
    "    IQR = q3 - q1\n",
    "    \n",
    "    lower_bound = q1 - 1.5 * IQR\n",
    "    upper_bound = q3 + 1.5 * IQR\n",
    "    \n",
    "    df = df[(df[col] >= lower_bound) & (df[col] < upper_bound)]\n",
    "    "
   ]
  },
  {
   "cell_type": "markdown",
   "id": "28c031c1",
   "metadata": {},
   "source": [
    "We're interested on exploring the relationship between payment type and passenger behavior concerning trip distance and fare amount. Are there variations in the distribution Of payment types concerning different fare amounts or trip distances?\n",
    "\n",
    "To investigate this, we'll plot histograms to visualize the distribution of passenger counts paying with either card or cash. This will also provide stakeholders with insight into fare amount ranges associated with different payment methods."
   ]
  },
  {
   "cell_type": "markdown",
   "id": "9abe3897",
   "metadata": {},
   "source": [
    "for col in ['duration', 'trip_distance', 'fare_amount']:\n",
    "    q1 = df[col].quantile(0.25)\n",
    "    q3 = df[col].quantile(0.75)\n",
    "    \n",
    "    IQR = q3 - q1\n",
    "    \n",
    "    lower_bound = q1 - 1.5 * IQR\n",
    "    upper_bound = q3 + 1.5 * IQR\n",
    "    \n",
    "    df = df[(df[col] >= lower_bound) & (df[col] < upper_bound)]"
   ]
  },
  {
   "cell_type": "code",
   "execution_count": 40,
   "id": "4d018a70",
   "metadata": {},
   "outputs": [
    {
     "data": {
      "text/html": [
       "<div>\n",
       "<style scoped>\n",
       "    .dataframe tbody tr th:only-of-type {\n",
       "        vertical-align: middle;\n",
       "    }\n",
       "\n",
       "    .dataframe tbody tr th {\n",
       "        vertical-align: top;\n",
       "    }\n",
       "\n",
       "    .dataframe thead th {\n",
       "        text-align: right;\n",
       "    }\n",
       "</style>\n",
       "<table border=\"1\" class=\"dataframe\">\n",
       "  <thead>\n",
       "    <tr style=\"text-align: right;\">\n",
       "      <th></th>\n",
       "      <th>passenger_count</th>\n",
       "      <th>fare_amount</th>\n",
       "      <th>duration</th>\n",
       "      <th>trip_distance</th>\n",
       "    </tr>\n",
       "  </thead>\n",
       "  <tbody>\n",
       "    <tr>\n",
       "      <th>count</th>\n",
       "      <td>2.346912e+06</td>\n",
       "      <td>2.346912e+06</td>\n",
       "      <td>2.346912e+06</td>\n",
       "      <td>2.346912e+06</td>\n",
       "    </tr>\n",
       "    <tr>\n",
       "      <th>mean</th>\n",
       "      <td>1.781702e+00</td>\n",
       "      <td>1.296520e+01</td>\n",
       "      <td>1.491360e+01</td>\n",
       "      <td>2.971965e+00</td>\n",
       "    </tr>\n",
       "    <tr>\n",
       "      <th>std</th>\n",
       "      <td>1.207912e+00</td>\n",
       "      <td>6.097827e+00</td>\n",
       "      <td>7.564030e+00</td>\n",
       "      <td>2.114477e+00</td>\n",
       "    </tr>\n",
       "    <tr>\n",
       "      <th>min</th>\n",
       "      <td>1.000000e+00</td>\n",
       "      <td>1.000000e-02</td>\n",
       "      <td>1.666667e-02</td>\n",
       "      <td>1.000000e-02</td>\n",
       "    </tr>\n",
       "    <tr>\n",
       "      <th>25%</th>\n",
       "      <td>1.000000e+00</td>\n",
       "      <td>8.500000e+00</td>\n",
       "      <td>9.150000e+00</td>\n",
       "      <td>1.400000e+00</td>\n",
       "    </tr>\n",
       "    <tr>\n",
       "      <th>50%</th>\n",
       "      <td>1.000000e+00</td>\n",
       "      <td>1.200000e+01</td>\n",
       "      <td>1.413333e+01</td>\n",
       "      <td>2.380000e+00</td>\n",
       "    </tr>\n",
       "    <tr>\n",
       "      <th>75%</th>\n",
       "      <td>2.000000e+00</td>\n",
       "      <td>1.650000e+01</td>\n",
       "      <td>1.976667e+01</td>\n",
       "      <td>3.970000e+00</td>\n",
       "    </tr>\n",
       "    <tr>\n",
       "      <th>max</th>\n",
       "      <td>5.000000e+00</td>\n",
       "      <td>2.973000e+01</td>\n",
       "      <td>4.340000e+01</td>\n",
       "      <td>1.024000e+01</td>\n",
       "    </tr>\n",
       "  </tbody>\n",
       "</table>\n",
       "</div>"
      ],
      "text/plain": [
       "       passenger_count   fare_amount      duration  trip_distance\n",
       "count     2.346912e+06  2.346912e+06  2.346912e+06   2.346912e+06\n",
       "mean      1.781702e+00  1.296520e+01  1.491360e+01   2.971965e+00\n",
       "std       1.207912e+00  6.097827e+00  7.564030e+00   2.114477e+00\n",
       "min       1.000000e+00  1.000000e-02  1.666667e-02   1.000000e-02\n",
       "25%       1.000000e+00  8.500000e+00  9.150000e+00   1.400000e+00\n",
       "50%       1.000000e+00  1.200000e+01  1.413333e+01   2.380000e+00\n",
       "75%       2.000000e+00  1.650000e+01  1.976667e+01   3.970000e+00\n",
       "max       5.000000e+00  2.973000e+01  4.340000e+01   1.024000e+01"
      ]
     },
     "execution_count": 40,
     "metadata": {},
     "output_type": "execute_result"
    }
   ],
   "source": [
    "df.describe()"
   ]
  },
  {
   "cell_type": "code",
   "execution_count": 41,
   "id": "c4774296",
   "metadata": {},
   "outputs": [
    {
     "data": {
      "text/plain": [
       "{'whiskers': [<matplotlib.lines.Line2D at 0x22db628c5b0>,\n",
       "  <matplotlib.lines.Line2D at 0x22db628c880>],\n",
       " 'caps': [<matplotlib.lines.Line2D at 0x22db628cb50>,\n",
       "  <matplotlib.lines.Line2D at 0x22db628ce20>],\n",
       " 'boxes': [<matplotlib.lines.Line2D at 0x22db628c2e0>],\n",
       " 'medians': [<matplotlib.lines.Line2D at 0x22db629b130>],\n",
       " 'fliers': [<matplotlib.lines.Line2D at 0x22db629b400>],\n",
       " 'means': []}"
      ]
     },
     "execution_count": 41,
     "metadata": {},
     "output_type": "execute_result"
    },
    {
     "data": {
      "image/png": "[encoded data removed]",
      "text/plain": [
       "<Figure size 432x288 with 1 Axes>"
      ]
     },
     "metadata": {
      "needs_background": "light"
     },
     "output_type": "display_data"
    }
   ],
   "source": [
    "plt.boxplot(df['trip_distance'])"
   ]
  },
  {
   "cell_type": "code",
   "execution_count": 42,
   "id": "d1848fb6",
   "metadata": {},
   "outputs": [
    {
     "data": {
      "image/png": "[encoded data removed]",
      "text/plain": [
       "<Figure size 864x360 with 1 Axes>"
      ]
     },
     "metadata": {
      "needs_background": "light"
     },
     "output_type": "display_data"
    }
   ],
   "source": [
    "plt.figure(figsize = (12 , 5))\n",
    "\n",
    "plt.subplot(1 , 2 , 1)\n",
    "\n",
    "plt.title('Distribution of Fare Amount')\n",
    "\n",
    "plt.hist(\n",
    "    df[df['payment_type'] == 'Card']['fare_amount'], \n",
    "    histtype = 'barstacked', bins = 20, edgecolor = 'k', label = 'Card')\n",
    "\n",
    "plt.hist(\n",
    "    df[df['payment_type'] == 'Cash']['fare_amount'], \n",
    "    histtype = 'barstacked', bins = 20, edgecolor = 'k', label = 'Card')\n",
    "\n",
    "plt.legend()\n",
    "plt.show()"
   ]
  },
  {
   "cell_type": "code",
   "execution_count": 43,
   "id": "e2d5353a",
   "metadata": {},
   "outputs": [
    {
     "data": {
      "image/png": "[encoded data removed]",
      "text/plain": [
       "<Figure size 864x360 with 1 Axes>"
      ]
     },
     "metadata": {
      "needs_background": "light"
     },
     "output_type": "display_data"
    }
   ],
   "source": [
    "plt.figure(figsize = (12 , 5))\n",
    "\n",
    "plt.subplot(1 , 2 , 1)\n",
    "\n",
    "plt.title('Distribution of Fare Amount')\n",
    "\n",
    "plt.hist(\n",
    "    df[df['payment_type'] == 'Card']['trip_distance'], \n",
    "    histtype = 'barstacked', bins = 20, edgecolor = 'k', label = 'Card')\n",
    "\n",
    "plt.hist(\n",
    "    df[df['payment_type'] == 'Cash']['trip_distance'], \n",
    "    histtype = 'barstacked', bins = 20, edgecolor = 'k', label = 'Card')\n",
    "\n",
    "plt.legend()\n",
    "plt.show()"
   ]
  },
  {
   "cell_type": "code",
   "execution_count": 44,
   "id": "4dcf8e3b",
   "metadata": {
    "scrolled": true
   },
   "outputs": [
    {
     "data": {
      "text/html": [
       "<div>\n",
       "<style scoped>\n",
       "    .dataframe tbody tr th:only-of-type {\n",
       "        vertical-align: middle;\n",
       "    }\n",
       "\n",
       "    .dataframe tbody tr th {\n",
       "        vertical-align: top;\n",
       "    }\n",
       "\n",
       "    .dataframe thead tr th {\n",
       "        text-align: left;\n",
       "    }\n",
       "\n",
       "    .dataframe thead tr:last-of-type th {\n",
       "        text-align: right;\n",
       "    }\n",
       "</style>\n",
       "<table border=\"1\" class=\"dataframe\">\n",
       "  <thead>\n",
       "    <tr>\n",
       "      <th></th>\n",
       "      <th colspan=\"2\" halign=\"left\">fare_amount</th>\n",
       "      <th colspan=\"2\" halign=\"left\">trip_distance</th>\n",
       "    </tr>\n",
       "    <tr>\n",
       "      <th></th>\n",
       "      <th>mean</th>\n",
       "      <th>std</th>\n",
       "      <th>mean</th>\n",
       "      <th>std</th>\n",
       "    </tr>\n",
       "    <tr>\n",
       "      <th>payment_type</th>\n",
       "      <th></th>\n",
       "      <th></th>\n",
       "      <th></th>\n",
       "      <th></th>\n",
       "    </tr>\n",
       "  </thead>\n",
       "  <tbody>\n",
       "    <tr>\n",
       "      <th>Card</th>\n",
       "      <td>13.419043</td>\n",
       "      <td>6.134717</td>\n",
       "      <td>3.102582</td>\n",
       "      <td>2.129515</td>\n",
       "    </tr>\n",
       "    <tr>\n",
       "      <th>Cash</th>\n",
       "      <td>12.026027</td>\n",
       "      <td>5.911128</td>\n",
       "      <td>2.701670</td>\n",
       "      <td>2.056839</td>\n",
       "    </tr>\n",
       "  </tbody>\n",
       "</table>\n",
       "</div>"
      ],
      "text/plain": [
       "             fare_amount           trip_distance          \n",
       "                    mean       std          mean       std\n",
       "payment_type                                              \n",
       "Card           13.419043  6.134717      3.102582  2.129515\n",
       "Cash           12.026027  5.911128      2.701670  2.056839"
      ]
     },
     "execution_count": 44,
     "metadata": {},
     "output_type": "execute_result"
    }
   ],
   "source": [
    "# Calculating the mean and standard deviation group by on payment type\n",
    "df.groupby('payment_type').agg(\n",
    "    {'fare_amount': ['mean', 'std'], \n",
    "     'trip_distance': ['mean', 'std']}\n",
    ")"
   ]
  },
  {
   "cell_type": "markdown",
   "id": "f96a6d59",
   "metadata": {},
   "source": [
    "Now, in order to examine the passenger's preference regarding their choice of payment method, we will assess the proportion of the two payment types. To provide a visual representation, we have opted to utilize a pie chart. This graphical depiction will Offer a clear and intuitive understanding Of the distribution between the two payment methods chosen by passengers."
   ]
  },
  {
   "cell_type": "code",
   "execution_count": 45,
   "id": "f918687e",
   "metadata": {
    "scrolled": true
   },
   "outputs": [
    {
     "data": {
      "image/png": "[encoded data removed]",
      "text/plain": [
       "<Figure size 432x288 with 1 Axes>"
      ]
     },
     "metadata": {},
     "output_type": "display_data"
    }
   ],
   "source": [
    "plt.title('Preference of Payment Type')\n",
    "\n",
    "plt.pie(df['payment_type'].value_counts(normalize = True), labels = df['payment_type'].value_counts().index, startangle = 90, autopct = '%1.1f%%')\n",
    "\n",
    "plt.show()"
   ]
  },
  {
   "cell_type": "markdown",
   "id": "a14f4cab",
   "metadata": {},
   "source": [
    "Subsequently, we aim to conduct an analysis Of the payment types in relation to the passenger count. Our objective is to investigate if there are any changes in preference contingent upon the number of passengers traveling in the cab.\n",
    "\n",
    "To facilitate this examination, we have employed a visualization technique known as a stacked bar plot. This method is particularly advantageous for comparing the percentage distribution of each passenger count based on the payment method selected. Through this graphical representation, we can gain insights into potential variations in payment preferences across different passenger counts."
   ]
  },
  {
   "cell_type": "code",
   "execution_count": 46,
   "id": "6bea9a60",
   "metadata": {},
   "outputs": [
    {
     "data": {
      "text/html": [
       "<div>\n",
       "<style scoped>\n",
       "    .dataframe tbody tr th:only-of-type {\n",
       "        vertical-align: middle;\n",
       "    }\n",
       "\n",
       "    .dataframe tbody tr th {\n",
       "        vertical-align: top;\n",
       "    }\n",
       "\n",
       "    .dataframe thead th {\n",
       "        text-align: right;\n",
       "    }\n",
       "</style>\n",
       "<table border=\"1\" class=\"dataframe\">\n",
       "  <thead>\n",
       "    <tr style=\"text-align: right;\">\n",
       "      <th></th>\n",
       "      <th></th>\n",
       "      <th>passenger_count</th>\n",
       "    </tr>\n",
       "    <tr>\n",
       "      <th>payment_type</th>\n",
       "      <th>passenger_count</th>\n",
       "      <th></th>\n",
       "    </tr>\n",
       "  </thead>\n",
       "  <tbody>\n",
       "    <tr>\n",
       "      <th rowspan=\"5\" valign=\"top\">Card</th>\n",
       "      <th>1</th>\n",
       "      <td>935834</td>\n",
       "    </tr>\n",
       "    <tr>\n",
       "      <th>2</th>\n",
       "      <td>333000</td>\n",
       "    </tr>\n",
       "    <tr>\n",
       "      <th>3</th>\n",
       "      <td>123762</td>\n",
       "    </tr>\n",
       "    <tr>\n",
       "      <th>4</th>\n",
       "      <td>64295</td>\n",
       "    </tr>\n",
       "    <tr>\n",
       "      <th>5</th>\n",
       "      <td>125398</td>\n",
       "    </tr>\n",
       "    <tr>\n",
       "      <th rowspan=\"5\" valign=\"top\">Cash</th>\n",
       "      <th>1</th>\n",
       "      <td>470551</td>\n",
       "    </tr>\n",
       "    <tr>\n",
       "      <th>2</th>\n",
       "      <td>157787</td>\n",
       "    </tr>\n",
       "    <tr>\n",
       "      <th>3</th>\n",
       "      <td>55172</td>\n",
       "    </tr>\n",
       "    <tr>\n",
       "      <th>4</th>\n",
       "      <td>32999</td>\n",
       "    </tr>\n",
       "    <tr>\n",
       "      <th>5</th>\n",
       "      <td>48114</td>\n",
       "    </tr>\n",
       "  </tbody>\n",
       "</table>\n",
       "</div>"
      ],
      "text/plain": [
       "                              passenger_count\n",
       "payment_type passenger_count                 \n",
       "Card         1                         935834\n",
       "             2                         333000\n",
       "             3                         123762\n",
       "             4                          64295\n",
       "             5                         125398\n",
       "Cash         1                         470551\n",
       "             2                         157787\n",
       "             3                          55172\n",
       "             4                          32999\n",
       "             5                          48114"
      ]
     },
     "execution_count": 46,
     "metadata": {},
     "output_type": "execute_result"
    }
   ],
   "source": [
    "# Calculating the total passenger count distribution based on \n",
    "# the different payment type\n",
    "\n",
    "df.groupby([\n",
    "    'payment_type', 'passenger_count'\n",
    "])[['passenger_count']].count()"
   ]
  },
  {
   "cell_type": "code",
   "execution_count": 47,
   "id": "fc70636b",
   "metadata": {},
   "outputs": [],
   "source": [
    "# Calculating the total passenger count distribution based on \n",
    "# the different payment type and storing in a new Data Frame\n",
    "\n",
    "passenger_count = df.groupby([\n",
    "    'payment_type', 'passenger_count'\n",
    "])[['passenger_count']].count()"
   ]
  },
  {
   "cell_type": "code",
   "execution_count": 48,
   "id": "b5f7bf4b",
   "metadata": {},
   "outputs": [],
   "source": [
    "# Renaming the column from passenger count to Count\n",
    "\n",
    "passenger_count.rename(\n",
    "    columns = {\n",
    "              'passenger_count' : 'count'\n",
    "            }, inplace = True)"
   ]
  },
  {
   "cell_type": "code",
   "execution_count": 49,
   "id": "9832d6a8",
   "metadata": {},
   "outputs": [],
   "source": [
    "# Reset the Index, which is from 0\n",
    "passenger_count.reset_index(inplace = True)"
   ]
  },
  {
   "cell_type": "code",
   "execution_count": 50,
   "id": "d20b48c3",
   "metadata": {},
   "outputs": [],
   "source": [
    "# Calculating the % distribution of each passenger count\n",
    "\n",
    "passenger_count['perc'] = (\n",
    "    passenger_count['count'] / passenger_count['count'].sum()\n",
    ")*100"
   ]
  },
  {
   "cell_type": "code",
   "execution_count": 51,
   "id": "b6accbf2",
   "metadata": {},
   "outputs": [
    {
     "data": {
      "text/html": [
       "<div>\n",
       "<style scoped>\n",
       "    .dataframe tbody tr th:only-of-type {\n",
       "        vertical-align: middle;\n",
       "    }\n",
       "\n",
       "    .dataframe tbody tr th {\n",
       "        vertical-align: top;\n",
       "    }\n",
       "\n",
       "    .dataframe thead th {\n",
       "        text-align: right;\n",
       "    }\n",
       "</style>\n",
       "<table border=\"1\" class=\"dataframe\">\n",
       "  <thead>\n",
       "    <tr style=\"text-align: right;\">\n",
       "      <th></th>\n",
       "      <th>payment_type</th>\n",
       "      <th>passenger_count</th>\n",
       "      <th>count</th>\n",
       "      <th>perc</th>\n",
       "    </tr>\n",
       "  </thead>\n",
       "  <tbody>\n",
       "    <tr>\n",
       "      <th>0</th>\n",
       "      <td>Card</td>\n",
       "      <td>1</td>\n",
       "      <td>935834</td>\n",
       "      <td>39.875121</td>\n",
       "    </tr>\n",
       "    <tr>\n",
       "      <th>1</th>\n",
       "      <td>Card</td>\n",
       "      <td>2</td>\n",
       "      <td>333000</td>\n",
       "      <td>14.188858</td>\n",
       "    </tr>\n",
       "    <tr>\n",
       "      <th>2</th>\n",
       "      <td>Card</td>\n",
       "      <td>3</td>\n",
       "      <td>123762</td>\n",
       "      <td>5.273398</td>\n",
       "    </tr>\n",
       "    <tr>\n",
       "      <th>3</th>\n",
       "      <td>Card</td>\n",
       "      <td>4</td>\n",
       "      <td>64295</td>\n",
       "      <td>2.739557</td>\n",
       "    </tr>\n",
       "    <tr>\n",
       "      <th>4</th>\n",
       "      <td>Card</td>\n",
       "      <td>5</td>\n",
       "      <td>125398</td>\n",
       "      <td>5.343106</td>\n",
       "    </tr>\n",
       "    <tr>\n",
       "      <th>5</th>\n",
       "      <td>Cash</td>\n",
       "      <td>1</td>\n",
       "      <td>470551</td>\n",
       "      <td>20.049793</td>\n",
       "    </tr>\n",
       "    <tr>\n",
       "      <th>6</th>\n",
       "      <td>Cash</td>\n",
       "      <td>2</td>\n",
       "      <td>157787</td>\n",
       "      <td>6.723175</td>\n",
       "    </tr>\n",
       "    <tr>\n",
       "      <th>7</th>\n",
       "      <td>Cash</td>\n",
       "      <td>3</td>\n",
       "      <td>55172</td>\n",
       "      <td>2.350834</td>\n",
       "    </tr>\n",
       "    <tr>\n",
       "      <th>8</th>\n",
       "      <td>Cash</td>\n",
       "      <td>4</td>\n",
       "      <td>32999</td>\n",
       "      <td>1.406060</td>\n",
       "    </tr>\n",
       "    <tr>\n",
       "      <th>9</th>\n",
       "      <td>Cash</td>\n",
       "      <td>5</td>\n",
       "      <td>48114</td>\n",
       "      <td>2.050098</td>\n",
       "    </tr>\n",
       "  </tbody>\n",
       "</table>\n",
       "</div>"
      ],
      "text/plain": [
       "  payment_type  passenger_count   count       perc\n",
       "0         Card                1  935834  39.875121\n",
       "1         Card                2  333000  14.188858\n",
       "2         Card                3  123762   5.273398\n",
       "3         Card                4   64295   2.739557\n",
       "4         Card                5  125398   5.343106\n",
       "5         Cash                1  470551  20.049793\n",
       "6         Cash                2  157787   6.723175\n",
       "7         Cash                3   55172   2.350834\n",
       "8         Cash                4   32999   1.406060\n",
       "9         Cash                5   48114   2.050098"
      ]
     },
     "execution_count": 51,
     "metadata": {},
     "output_type": "execute_result"
    }
   ],
   "source": [
    "passenger_count"
   ]
  },
  {
   "cell_type": "code",
   "execution_count": 52,
   "id": "fd4abc2f",
   "metadata": {},
   "outputs": [],
   "source": [
    "# Creating a New Data Frame 'pc' to store the distribution of\n",
    "# each payment type \n",
    "\n",
    "pc = pd.DataFrame(columns = ['payment_type', 1,2,3,4,5])\n",
    "pc['payment_type'] = ['Card', 'Cash']"
   ]
  },
  {
   "cell_type": "code",
   "execution_count": 53,
   "id": "59e6f3bd",
   "metadata": {},
   "outputs": [],
   "source": [
    "# Appending the value in new DF\n",
    "\n",
    "pc.iloc[0, 1:] = passenger_count.iloc[0:5, -1]\n",
    "\n",
    "pc.iloc[1, 1:] = passenger_count.iloc[5:, -1]"
   ]
  },
  {
   "cell_type": "code",
   "execution_count": 54,
   "id": "069abea7",
   "metadata": {},
   "outputs": [
    {
     "data": {
      "text/html": [
       "<div>\n",
       "<style scoped>\n",
       "    .dataframe tbody tr th:only-of-type {\n",
       "        vertical-align: middle;\n",
       "    }\n",
       "\n",
       "    .dataframe tbody tr th {\n",
       "        vertical-align: top;\n",
       "    }\n",
       "\n",
       "    .dataframe thead th {\n",
       "        text-align: right;\n",
       "    }\n",
       "</style>\n",
       "<table border=\"1\" class=\"dataframe\">\n",
       "  <thead>\n",
       "    <tr style=\"text-align: right;\">\n",
       "      <th></th>\n",
       "      <th>payment_type</th>\n",
       "      <th>1</th>\n",
       "      <th>2</th>\n",
       "      <th>3</th>\n",
       "      <th>4</th>\n",
       "      <th>5</th>\n",
       "    </tr>\n",
       "  </thead>\n",
       "  <tbody>\n",
       "    <tr>\n",
       "      <th>0</th>\n",
       "      <td>Card</td>\n",
       "      <td>39.875121</td>\n",
       "      <td>14.188858</td>\n",
       "      <td>5.273398</td>\n",
       "      <td>2.739557</td>\n",
       "      <td>5.343106</td>\n",
       "    </tr>\n",
       "    <tr>\n",
       "      <th>1</th>\n",
       "      <td>Cash</td>\n",
       "      <td>20.049793</td>\n",
       "      <td>6.723175</td>\n",
       "      <td>2.350834</td>\n",
       "      <td>1.40606</td>\n",
       "      <td>2.050098</td>\n",
       "    </tr>\n",
       "  </tbody>\n",
       "</table>\n",
       "</div>"
      ],
      "text/plain": [
       "  payment_type          1          2         3         4         5\n",
       "0         Card  39.875121  14.188858  5.273398  2.739557  5.343106\n",
       "1         Cash  20.049793   6.723175  2.350834   1.40606  2.050098"
      ]
     },
     "execution_count": 54,
     "metadata": {},
     "output_type": "execute_result"
    }
   ],
   "source": [
    "# New Data Frame with Payment type and Passenger Count\n",
    "pc"
   ]
  },
  {
   "cell_type": "code",
   "execution_count": 55,
   "id": "2647fc65",
   "metadata": {
    "scrolled": false
   },
   "outputs": [
    {
     "data": {
      "image/png": "[encoded data removed]",
      "text/plain": [
       "<Figure size 1440x432 with 1 Axes>"
      ]
     },
     "metadata": {
      "needs_background": "light"
     },
     "output_type": "display_data"
    }
   ],
   "source": [
    "# Code to plot the Horizontal Bar Plot\n",
    "\n",
    "fig, ax = plt.subplots(figsize = (20, 6))\n",
    "\n",
    "pc.plot(x = 'payment_type', kind = 'barh', stacked = True, ax = ax)\n",
    "\n",
    "\n",
    "for p in ax.patches:\n",
    "    w = p.get_width()\n",
    "    h = p.get_height()\n",
    "    x, y = p.get_xy()\n",
    "    \n",
    "    ax.text(x + w / 2, y + h / 2,\n",
    "            '{:.0f}%'.format(w),\n",
    "            horizontalalignment= 'center')\n",
    "#             verticatalignment= 'center' )"
   ]
  },
  {
   "cell_type": "markdown",
   "id": "3251a44a",
   "metadata": {},
   "source": [
    "# Hypothesis Testing"
   ]
  },
  {
   "cell_type": "code",
   "execution_count": 56,
   "id": "b1f1f2b1",
   "metadata": {},
   "outputs": [],
   "source": [
    "# import seaborn as sns\n",
    "# sns.qqplot(df['fare_amount'], line = '45')\n",
    "# plt.show()"
   ]
  },
  {
   "cell_type": "markdown",
   "id": "d24bdba9",
   "metadata": {},
   "source": [
    "In order to select the most suitable test for our scenario, our initial step involves evaluating whether the distribution of fare amounts adheres to a normal distribution.\n",
    "While the histogram depicted above suggests otherwise, we will further confirm this by generating a QQ plot.\n",
    "\n",
    "Quantile-quantile (QQ) plots can be used to assess whether the fare amount distributions for each payment type are approximately normally distributed. If the datapoints closely align with the diagonal line in the plot, it suggests that the data follows a normal distribution."
   ]
  },
  {
   "cell_type": "code",
   "execution_count": 57,
   "id": "03deb0d3",
   "metadata": {
    "scrolled": true
   },
   "outputs": [
    {
     "data": {
      "image/png": "[encoded data removed]",
      "text/plain": [
       "<Figure size 432x288 with 1 Axes>"
      ]
     },
     "metadata": {
      "needs_background": "light"
     },
     "output_type": "display_data"
    }
   ],
   "source": [
    "st.probplot(df['trip_distance'], dist = 'norm', plot = plt)\n",
    "plt.show()"
   ]
  },
  {
   "cell_type": "markdown",
   "id": "6494dd1b",
   "metadata": {},
   "source": [
    "The data values clearly do not follow the red 45-degree line, which is an indication that they do not follow a normal distribution. so, z distribution will not be good for this. That's why we will use T test.\n",
    "\n",
    "Given that the T-test can be applied to both small and large samples and does not require the population standard deviation, it is a more universally applicable approach for hypothesis testing in many practical research scenarios, including analyses of taxi trip data.\n",
    "\n",
    "In the analysis of NYC Yellow Taxi Trip Records, where you're likely dealing with an unknown population standard deviation and potentially large datasets, the T-test offers a more appropriate and flexible method for comparing means between two groups (e.g., fare amounts by payment type). It provides a reliable way to infer about the population, accommodating the uncertainty that comes with estimating population parameters from sample data."
   ]
  },
  {
   "cell_type": "markdown",
   "id": "9e9545ed",
   "metadata": {},
   "source": [
    "**Null hypothesis:** There is no difference in average fare between customers who use credit cards and customers who use cash.\n",
    "\n",
    "**Alternative hypothesis:** There is a difference in average fare between customers who use credit cards and customers who use cash"
   ]
  },
  {
   "cell_type": "code",
   "execution_count": 58,
   "id": "010b2697",
   "metadata": {},
   "outputs": [],
   "source": [
    "# Sample 1\n",
    "card_sample = df[df['payment_type'] == 'Card']['fare_amount']\n",
    "\n",
    "# Sample 2\n",
    "cash_sample = df[df['payment_type'] == 'Cash']['fare_amount']"
   ]
  },
  {
   "cell_type": "code",
   "execution_count": 59,
   "id": "9a3a9758",
   "metadata": {},
   "outputs": [
    {
     "name": "stdout",
     "output_type": "stream",
     "text": [
      "t_stats 164.96912273473026 and p_val 0.0\n",
      "Reject the NULL Hypothesis\n"
     ]
    }
   ],
   "source": [
    "# Performing t test on both samples\n",
    "t_stats, p_val = st.ttest_ind(\n",
    "    a = card_sample, b = cash_sample)\n",
    "#     equal_val = False)\n",
    "\n",
    "print(f't_stats {t_stats} and p_val {p_val}')\n",
    "\n",
    "if p_val < 0.05:\n",
    "    print(\"Reject the NULL Hypothesis\")\n",
    "    \n",
    "else:\n",
    "    print(\"Accept the NULL Hypothesis\")"
   ]
  },
  {
   "cell_type": "code",
   "execution_count": 60,
   "id": "d60b15b5",
   "metadata": {},
   "outputs": [
    {
     "name": "stdout",
     "output_type": "stream",
     "text": [
      "t_stats 164.96912273473026 and p_val 0.0\n"
     ]
    }
   ],
   "source": [
    "print(f't_stats {t_stats} and p_val {p_val}')"
   ]
  },
  {
   "cell_type": "markdown",
   "id": "badd557c",
   "metadata": {},
   "source": [
    "Since the p-value is significantly smaller than the significance level of 5%, we will reject the null hypothesis.\n",
    "\n",
    "You conclude that there is a statistically significant difference in the average fare amount between customers who use credit cards and customers who use cash.\n",
    "\n",
    "The key business insight is that encouraging customers to pay with credit cards can generate more revenue for taxi cab drivers."
   ]
  }
 ],
 "metadata": {
  "kernelspec": {
   "display_name": "Python 3 (ipykernel)",
   "language": "python",
   "name": "python3"
  },
  "language_info": {
   "codemirror_mode": {
    "name": "ipython",
    "version": 3
   },
   "file_extension": ".py",
   "mimetype": "text/x-python",
   "name": "python",
   "nbconvert_exporter": "python",
   "pygments_lexer": "ipython3",
   "version": "3.9.5"
  }
 },
 "nbformat": 4,
 "nbformat_minor": 5
}
